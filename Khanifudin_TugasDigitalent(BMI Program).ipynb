{
 "cells": [
  {
   "cell_type": "code",
   "execution_count": null,
   "metadata": {},
   "outputs": [],
   "source": [
    "weight=int(input(\"Berat badan= \"))\n",
    "height=int(input(\"Tinggi badan= \"))\n",
    "BMI=weight/(height/100)\n",
    "print(\"BMI kamu= \", BMI)\n",
    "if BMI<=15:\n",
    "    print (\"Kategori BMI kamu adalah Very severely underweight\")\n",
    "elif BMI>15 and BMI<=16:\n",
    "    print(\"Kategori BMI kamu adalah severely underweight\")\n",
    "elif BMI>16 and BMI<=18.5:\n",
    "    print(\"Kategori BMI kamu adalah underweight\")\n",
    "elif BMI>18.5 and BMI<=25:\n",
    "    print(\"Kategori BMI kamu adalah Normal\")\n",
    "elif BMI>25 and BMI<=30:\n",
    "    print(\"Kategori BMI kamu adalah overweight\")\n",
    "elif BMI>30 and BMI<=35:\n",
    "    print(\"Kategori BMI kamu adalah moderately obese\")\n",
    "elif BMI>35 and BMI<=40:\n",
    "    print (\"Kategori BMI kamu adalah severely obese\")\n",
    "else:\n",
    "    print(\"Kategori BMI kamu adalah very severely obese\")"
   ]
  },
  {
   "cell_type": "code",
   "execution_count": null,
   "metadata": {},
   "outputs": [],
   "source": []
  }
 ],
 "metadata": {
  "kernelspec": {
   "display_name": "Python 3",
   "language": "python",
   "name": "python3"
  },
  "language_info": {
   "codemirror_mode": {
    "name": "ipython",
    "version": 3
   },
   "file_extension": ".py",
   "mimetype": "text/x-python",
   "name": "python",
   "nbconvert_exporter": "python",
   "pygments_lexer": "ipython3",
   "version": "3.7.0"
  }
 },
 "nbformat": 4,
 "nbformat_minor": 2
}
